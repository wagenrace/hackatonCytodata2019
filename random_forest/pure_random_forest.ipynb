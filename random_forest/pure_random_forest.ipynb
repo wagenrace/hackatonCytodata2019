{
 "nbformat": 4,
 "nbformat_minor": 2,
 "metadata": {
  "language_info": {
   "name": "python",
   "codemirror_mode": {
    "name": "ipython",
    "version": 3
   }
  },
  "orig_nbformat": 2,
  "file_extension": ".py",
  "mimetype": "text/x-python",
  "name": "python",
  "npconvert_exporter": "python",
  "pygments_lexer": "ipython3",
  "version": 3
 },
 "cells": [
  {
   "cell_type": "markdown",
   "execution_count": null,
   "metadata": {},
   "outputs": [],
   "source": [
    "# Random forest\n",
    "Training a random forest purely on the features profieded"
   ]
  },
  {
   "cell_type": "code",
   "execution_count": 2,
   "metadata": {},
   "outputs": [],
   "source": [
    "import pandas as pd\n",
    "from local_variables import locTrainingData, locValidationData\n",
    "\n",
    "trainingData = pd.read_csv(locTrainingData).sort_values(by=['cell_code'])\n",
    "validationData = pd.read_csv(locValidationData).sort_values(by=['cell_code'])"
   ]
  },
  {
   "cell_type": "code",
   "execution_count": 4,
   "metadata": {},
   "outputs": [
    {
     "data": {
      "text/html": "<div>\n<style scoped>\n    .dataframe tbody tr th:only-of-type {\n        vertical-align: middle;\n    }\n\n    .dataframe tbody tr th {\n        vertical-align: top;\n    }\n\n    .dataframe thead th {\n        text-align: right;\n    }\n</style>\n<table border=\"1\" class=\"dataframe\">\n  <thead>\n    <tr style=\"text-align: right;\">\n      <th></th>\n      <th>cell_code</th>\n      <th>cell_id</th>\n      <th>plate</th>\n      <th>replicate</th>\n      <th>well</th>\n      <th>field</th>\n      <th>actin.s.area</th>\n      <th>actin.s.perimeter</th>\n      <th>actin.s.radius.mean</th>\n      <th>actin.s.radius.sd</th>\n      <th>...</th>\n      <th>DNA.h.ent.s3</th>\n      <th>DNA.h.dva.s3</th>\n      <th>DNA.h.den.s3</th>\n      <th>DNA.h.f12.s3</th>\n      <th>DNA.h.f13.s3</th>\n      <th>dist.10.nn</th>\n      <th>dist.20.nn</th>\n      <th>dist.30.nn</th>\n      <th>nuclear.displacement</th>\n      <th>target</th>\n    </tr>\n  </thead>\n  <tbody>\n    <tr>\n      <td>25535</td>\n      <td>002cmFls98</td>\n      <td>157</td>\n      <td>P4</td>\n      <td>2</td>\n      <td>B15</td>\n      <td>4</td>\n      <td>716</td>\n      <td>105</td>\n      <td>15.625940</td>\n      <td>3.505869</td>\n      <td>...</td>\n      <td>0.0</td>\n      <td>0.0</td>\n      <td>0.0</td>\n      <td>0.0</td>\n      <td>0.0</td>\n      <td>69.685668</td>\n      <td>99.655795</td>\n      <td>122.881283</td>\n      <td>1.736092</td>\n      <td>EGFR</td>\n    </tr>\n    <tr>\n      <td>42206</td>\n      <td>003a1E9i8G</td>\n      <td>183</td>\n      <td>P1</td>\n      <td>2</td>\n      <td>B12</td>\n      <td>1</td>\n      <td>2338</td>\n      <td>194</td>\n      <td>28.463453</td>\n      <td>6.637336</td>\n      <td>...</td>\n      <td>0.0</td>\n      <td>0.0</td>\n      <td>0.0</td>\n      <td>0.0</td>\n      <td>0.0</td>\n      <td>89.136547</td>\n      <td>157.804006</td>\n      <td>199.886269</td>\n      <td>5.683720</td>\n      <td>CDK</td>\n    </tr>\n    <tr>\n      <td>990</td>\n      <td>0050nuY2UY</td>\n      <td>97</td>\n      <td>P1</td>\n      <td>1</td>\n      <td>O10</td>\n      <td>2</td>\n      <td>2057</td>\n      <td>213</td>\n      <td>25.603987</td>\n      <td>6.863177</td>\n      <td>...</td>\n      <td>0.0</td>\n      <td>0.0</td>\n      <td>0.0</td>\n      <td>0.0</td>\n      <td>0.0</td>\n      <td>201.147687</td>\n      <td>348.859221</td>\n      <td>413.071300</td>\n      <td>2.995026</td>\n      <td>TopoII</td>\n    </tr>\n    <tr>\n      <td>9337</td>\n      <td>00BQSCEJTK</td>\n      <td>17</td>\n      <td>P1</td>\n      <td>1</td>\n      <td>P16</td>\n      <td>2</td>\n      <td>102</td>\n      <td>40</td>\n      <td>5.811896</td>\n      <td>2.205813</td>\n      <td>...</td>\n      <td>0.0</td>\n      <td>0.0</td>\n      <td>0.0</td>\n      <td>0.0</td>\n      <td>0.0</td>\n      <td>333.862724</td>\n      <td>550.569894</td>\n      <td>636.855092</td>\n      <td>1.514300</td>\n      <td>Ca2</td>\n    </tr>\n    <tr>\n      <td>44955</td>\n      <td>00FpkRUSvg</td>\n      <td>72</td>\n      <td>P1</td>\n      <td>2</td>\n      <td>C18</td>\n      <td>3</td>\n      <td>1851</td>\n      <td>171</td>\n      <td>24.922774</td>\n      <td>5.627285</td>\n      <td>...</td>\n      <td>0.0</td>\n      <td>0.0</td>\n      <td>0.0</td>\n      <td>0.0</td>\n      <td>0.0</td>\n      <td>82.857429</td>\n      <td>115.175184</td>\n      <td>137.381608</td>\n      <td>1.154437</td>\n      <td>dopaminereceptor</td>\n    </tr>\n  </tbody>\n</table>\n<p>5 rows × 123 columns</p>\n</div>",
      "text/plain": "        cell_code  cell_id plate  replicate well  field  actin.s.area  \\\n25535  002cmFls98      157    P4          2  B15      4           716   \n42206  003a1E9i8G      183    P1          2  B12      1          2338   \n990    0050nuY2UY       97    P1          1  O10      2          2057   \n9337   00BQSCEJTK       17    P1          1  P16      2           102   \n44955  00FpkRUSvg       72    P1          2  C18      3          1851   \n\n       actin.s.perimeter  actin.s.radius.mean  actin.s.radius.sd  ...  \\\n25535                105            15.625940           3.505869  ...   \n42206                194            28.463453           6.637336  ...   \n990                  213            25.603987           6.863177  ...   \n9337                  40             5.811896           2.205813  ...   \n44955                171            24.922774           5.627285  ...   \n\n       DNA.h.ent.s3  DNA.h.dva.s3  DNA.h.den.s3  DNA.h.f12.s3  DNA.h.f13.s3  \\\n25535           0.0           0.0           0.0           0.0           0.0   \n42206           0.0           0.0           0.0           0.0           0.0   \n990             0.0           0.0           0.0           0.0           0.0   \n9337            0.0           0.0           0.0           0.0           0.0   \n44955           0.0           0.0           0.0           0.0           0.0   \n\n       dist.10.nn  dist.20.nn  dist.30.nn  nuclear.displacement  \\\n25535   69.685668   99.655795  122.881283              1.736092   \n42206   89.136547  157.804006  199.886269              5.683720   \n990    201.147687  348.859221  413.071300              2.995026   \n9337   333.862724  550.569894  636.855092              1.514300   \n44955   82.857429  115.175184  137.381608              1.154437   \n\n                 target  \n25535              EGFR  \n42206               CDK  \n990              TopoII  \n9337                Ca2  \n44955  dopaminereceptor  \n\n[5 rows x 123 columns]"
     },
     "execution_count": 4,
     "metadata": {},
     "output_type": "execute_result"
    }
   ],
   "source": [
    "trainingData.head()"
   ]
  },
  {
   "cell_type": "markdown",
   "execution_count": null,
   "metadata": {},
   "outputs": [],
   "source": [
    "Filtering the data to make sure all class is removed.\n",
    "The data is also normalized. This is for pure random forest not needed but add for consistensy."
   ]
  },
  {
   "cell_type": "code",
   "execution_count": 6,
   "metadata": {},
   "outputs": [
    {
     "data": {
      "text/html": "<div>\n<style scoped>\n    .dataframe tbody tr th:only-of-type {\n        vertical-align: middle;\n    }\n\n    .dataframe tbody tr th {\n        vertical-align: top;\n    }\n\n    .dataframe thead th {\n        text-align: right;\n    }\n</style>\n<table border=\"1\" class=\"dataframe\">\n  <thead>\n    <tr style=\"text-align: right;\">\n      <th></th>\n      <th>actin.s.area</th>\n      <th>actin.s.perimeter</th>\n      <th>actin.s.radius.mean</th>\n      <th>actin.s.radius.sd</th>\n      <th>actin.s.radius.min</th>\n      <th>actin.s.radius.max</th>\n      <th>actin.b.mean</th>\n      <th>actin.b.sd</th>\n      <th>actin.b.mad</th>\n      <th>actin.b.q005</th>\n      <th>...</th>\n      <th>DNA.h.sen.s3</th>\n      <th>DNA.h.ent.s3</th>\n      <th>DNA.h.dva.s3</th>\n      <th>DNA.h.den.s3</th>\n      <th>DNA.h.f12.s3</th>\n      <th>DNA.h.f13.s3</th>\n      <th>dist.10.nn</th>\n      <th>dist.20.nn</th>\n      <th>dist.30.nn</th>\n      <th>nuclear.displacement</th>\n    </tr>\n  </thead>\n  <tbody>\n    <tr>\n      <td>25535</td>\n      <td>0.015415</td>\n      <td>0.097948</td>\n      <td>0.119467</td>\n      <td>0.094333</td>\n      <td>0.137140</td>\n      <td>0.111499</td>\n      <td>0.175873</td>\n      <td>0.078243</td>\n      <td>0.061116</td>\n      <td>0.172074</td>\n      <td>...</td>\n      <td>0.0</td>\n      <td>0.0</td>\n      <td>0.0</td>\n      <td>0.0</td>\n      <td>0.0</td>\n      <td>0.0</td>\n      <td>0.083050</td>\n      <td>0.091101</td>\n      <td>0.097196</td>\n      <td>0.020164</td>\n    </tr>\n    <tr>\n      <td>42206</td>\n      <td>0.050337</td>\n      <td>0.180970</td>\n      <td>0.217615</td>\n      <td>0.178592</td>\n      <td>0.240402</td>\n      <td>0.218555</td>\n      <td>0.180451</td>\n      <td>0.060682</td>\n      <td>0.040197</td>\n      <td>0.159181</td>\n      <td>...</td>\n      <td>0.0</td>\n      <td>0.0</td>\n      <td>0.0</td>\n      <td>0.0</td>\n      <td>0.0</td>\n      <td>0.0</td>\n      <td>0.106231</td>\n      <td>0.144258</td>\n      <td>0.158105</td>\n      <td>0.066014</td>\n    </tr>\n    <tr>\n      <td>990</td>\n      <td>0.044287</td>\n      <td>0.198694</td>\n      <td>0.195753</td>\n      <td>0.184669</td>\n      <td>0.123583</td>\n      <td>0.179242</td>\n      <td>0.211442</td>\n      <td>0.112281</td>\n      <td>0.071370</td>\n      <td>0.178976</td>\n      <td>...</td>\n      <td>0.0</td>\n      <td>0.0</td>\n      <td>0.0</td>\n      <td>0.0</td>\n      <td>0.0</td>\n      <td>0.0</td>\n      <td>0.239724</td>\n      <td>0.318913</td>\n      <td>0.326728</td>\n      <td>0.034786</td>\n    </tr>\n    <tr>\n      <td>9337</td>\n      <td>0.002196</td>\n      <td>0.037313</td>\n      <td>0.044434</td>\n      <td>0.059352</td>\n      <td>0.029521</td>\n      <td>0.049425</td>\n      <td>0.175882</td>\n      <td>0.094351</td>\n      <td>0.106645</td>\n      <td>0.135613</td>\n      <td>...</td>\n      <td>0.0</td>\n      <td>0.0</td>\n      <td>0.0</td>\n      <td>0.0</td>\n      <td>0.0</td>\n      <td>0.0</td>\n      <td>0.397892</td>\n      <td>0.503309</td>\n      <td>0.503735</td>\n      <td>0.017588</td>\n    </tr>\n    <tr>\n      <td>44955</td>\n      <td>0.039852</td>\n      <td>0.159515</td>\n      <td>0.190545</td>\n      <td>0.151414</td>\n      <td>0.222535</td>\n      <td>0.181675</td>\n      <td>0.251598</td>\n      <td>0.238287</td>\n      <td>0.208368</td>\n      <td>0.080367</td>\n      <td>...</td>\n      <td>0.0</td>\n      <td>0.0</td>\n      <td>0.0</td>\n      <td>0.0</td>\n      <td>0.0</td>\n      <td>0.0</td>\n      <td>0.098748</td>\n      <td>0.105288</td>\n      <td>0.108665</td>\n      <td>0.013408</td>\n    </tr>\n  </tbody>\n</table>\n<p>5 rows × 116 columns</p>\n</div>",
      "text/plain": "       actin.s.area  actin.s.perimeter  actin.s.radius.mean  \\\n25535      0.015415           0.097948             0.119467   \n42206      0.050337           0.180970             0.217615   \n990        0.044287           0.198694             0.195753   \n9337       0.002196           0.037313             0.044434   \n44955      0.039852           0.159515             0.190545   \n\n       actin.s.radius.sd  actin.s.radius.min  actin.s.radius.max  \\\n25535           0.094333            0.137140            0.111499   \n42206           0.178592            0.240402            0.218555   \n990             0.184669            0.123583            0.179242   \n9337            0.059352            0.029521            0.049425   \n44955           0.151414            0.222535            0.181675   \n\n       actin.b.mean  actin.b.sd  actin.b.mad  actin.b.q005  ...  DNA.h.sen.s3  \\\n25535      0.175873    0.078243     0.061116      0.172074  ...           0.0   \n42206      0.180451    0.060682     0.040197      0.159181  ...           0.0   \n990        0.211442    0.112281     0.071370      0.178976  ...           0.0   \n9337       0.175882    0.094351     0.106645      0.135613  ...           0.0   \n44955      0.251598    0.238287     0.208368      0.080367  ...           0.0   \n\n       DNA.h.ent.s3  DNA.h.dva.s3  DNA.h.den.s3  DNA.h.f12.s3  DNA.h.f13.s3  \\\n25535           0.0           0.0           0.0           0.0           0.0   \n42206           0.0           0.0           0.0           0.0           0.0   \n990             0.0           0.0           0.0           0.0           0.0   \n9337            0.0           0.0           0.0           0.0           0.0   \n44955           0.0           0.0           0.0           0.0           0.0   \n\n       dist.10.nn  dist.20.nn  dist.30.nn  nuclear.displacement  \n25535    0.083050    0.091101    0.097196              0.020164  \n42206    0.106231    0.144258    0.158105              0.066014  \n990      0.239724    0.318913    0.326728              0.034786  \n9337     0.397892    0.503309    0.503735              0.017588  \n44955    0.098748    0.105288    0.108665              0.013408  \n\n[5 rows x 116 columns]"
     },
     "execution_count": 6,
     "metadata": {},
     "output_type": "execute_result"
    }
   ],
   "source": [
    "filteredData = trainingData.drop(columns=[\"replicate\", \"field\", \"cell_code\", \"cell_id\", \"plate\", \"well\", \"target\"])\n",
    "normalizedTrainData = filteredData.div(filteredData.max())\n",
    "normalizedTrainData.head()"
   ]
  },
  {
   "cell_type": "code",
   "execution_count": null,
   "metadata": {},
   "outputs": [],
   "source": []
  },
  {
   "cell_type": "code",
   "execution_count": 13,
   "metadata": {},
   "outputs": [
    {
     "data": {
      "text/html": "<div>\n<style scoped>\n    .dataframe tbody tr th:only-of-type {\n        vertical-align: middle;\n    }\n\n    .dataframe tbody tr th {\n        vertical-align: top;\n    }\n\n    .dataframe thead th {\n        text-align: right;\n    }\n</style>\n<table border=\"1\" class=\"dataframe\">\n  <thead>\n    <tr style=\"text-align: right;\">\n      <th></th>\n      <th>actin.s.area</th>\n      <th>actin.s.perimeter</th>\n      <th>actin.s.radius.mean</th>\n      <th>actin.s.radius.sd</th>\n      <th>actin.s.radius.min</th>\n      <th>actin.s.radius.max</th>\n      <th>actin.b.mean</th>\n      <th>actin.b.sd</th>\n      <th>actin.b.mad</th>\n      <th>actin.b.q005</th>\n      <th>...</th>\n      <th>DNA.h.sen.s3</th>\n      <th>DNA.h.ent.s3</th>\n      <th>DNA.h.dva.s3</th>\n      <th>DNA.h.den.s3</th>\n      <th>DNA.h.f12.s3</th>\n      <th>DNA.h.f13.s3</th>\n      <th>dist.10.nn</th>\n      <th>dist.20.nn</th>\n      <th>dist.30.nn</th>\n      <th>nuclear.displacement</th>\n    </tr>\n  </thead>\n  <tbody>\n    <tr>\n      <td>11853</td>\n      <td>0.063836</td>\n      <td>0.195896</td>\n      <td>0.236944</td>\n      <td>0.172948</td>\n      <td>0.266313</td>\n      <td>0.220627</td>\n      <td>0.180036</td>\n      <td>0.066465</td>\n      <td>0.066448</td>\n      <td>0.164678</td>\n      <td>...</td>\n      <td>0.0</td>\n      <td>0.0</td>\n      <td>0.0</td>\n      <td>0.0</td>\n      <td>0.0</td>\n      <td>0.0</td>\n      <td>0.111414</td>\n      <td>0.108555</td>\n      <td>0.121853</td>\n      <td>0.018572</td>\n    </tr>\n    <tr>\n      <td>1727</td>\n      <td>0.027731</td>\n      <td>0.130597</td>\n      <td>0.159725</td>\n      <td>0.153218</td>\n      <td>0.137377</td>\n      <td>0.147136</td>\n      <td>0.175572</td>\n      <td>0.052960</td>\n      <td>0.041017</td>\n      <td>0.182428</td>\n      <td>...</td>\n      <td>0.0</td>\n      <td>0.0</td>\n      <td>0.0</td>\n      <td>0.0</td>\n      <td>0.0</td>\n      <td>0.0</td>\n      <td>0.088967</td>\n      <td>0.104393</td>\n      <td>0.118345</td>\n      <td>0.015677</td>\n    </tr>\n    <tr>\n      <td>12005</td>\n      <td>0.018968</td>\n      <td>0.107276</td>\n      <td>0.130514</td>\n      <td>0.111088</td>\n      <td>0.145117</td>\n      <td>0.121989</td>\n      <td>0.155262</td>\n      <td>0.044630</td>\n      <td>0.044299</td>\n      <td>0.155310</td>\n      <td>...</td>\n      <td>0.0</td>\n      <td>0.0</td>\n      <td>0.0</td>\n      <td>0.0</td>\n      <td>0.0</td>\n      <td>0.0</td>\n      <td>0.098335</td>\n      <td>0.104182</td>\n      <td>0.112022</td>\n      <td>0.014801</td>\n    </tr>\n    <tr>\n      <td>3960</td>\n      <td>0.008827</td>\n      <td>0.057836</td>\n      <td>0.083994</td>\n      <td>0.014291</td>\n      <td>0.137600</td>\n      <td>0.058220</td>\n      <td>0.043396</td>\n      <td>0.003436</td>\n      <td>0.003281</td>\n      <td>0.055221</td>\n      <td>...</td>\n      <td>0.0</td>\n      <td>0.0</td>\n      <td>0.0</td>\n      <td>0.0</td>\n      <td>0.0</td>\n      <td>0.0</td>\n      <td>0.224270</td>\n      <td>0.259312</td>\n      <td>0.294861</td>\n      <td>0.008114</td>\n    </tr>\n    <tr>\n      <td>10815</td>\n      <td>0.022154</td>\n      <td>0.136194</td>\n      <td>0.141622</td>\n      <td>0.106196</td>\n      <td>0.154462</td>\n      <td>0.130107</td>\n      <td>0.121726</td>\n      <td>0.042782</td>\n      <td>0.027071</td>\n      <td>0.111626</td>\n      <td>...</td>\n      <td>0.0</td>\n      <td>0.0</td>\n      <td>0.0</td>\n      <td>0.0</td>\n      <td>0.0</td>\n      <td>0.0</td>\n      <td>0.079059</td>\n      <td>0.085523</td>\n      <td>0.093387</td>\n      <td>0.035350</td>\n    </tr>\n  </tbody>\n</table>\n<p>5 rows × 116 columns</p>\n</div>",
      "text/plain": "       actin.s.area  actin.s.perimeter  actin.s.radius.mean  \\\n11853      0.063836           0.195896             0.236944   \n1727       0.027731           0.130597             0.159725   \n12005      0.018968           0.107276             0.130514   \n3960       0.008827           0.057836             0.083994   \n10815      0.022154           0.136194             0.141622   \n\n       actin.s.radius.sd  actin.s.radius.min  actin.s.radius.max  \\\n11853           0.172948            0.266313            0.220627   \n1727            0.153218            0.137377            0.147136   \n12005           0.111088            0.145117            0.121989   \n3960            0.014291            0.137600            0.058220   \n10815           0.106196            0.154462            0.130107   \n\n       actin.b.mean  actin.b.sd  actin.b.mad  actin.b.q005  ...  DNA.h.sen.s3  \\\n11853      0.180036    0.066465     0.066448      0.164678  ...           0.0   \n1727       0.175572    0.052960     0.041017      0.182428  ...           0.0   \n12005      0.155262    0.044630     0.044299      0.155310  ...           0.0   \n3960       0.043396    0.003436     0.003281      0.055221  ...           0.0   \n10815      0.121726    0.042782     0.027071      0.111626  ...           0.0   \n\n       DNA.h.ent.s3  DNA.h.dva.s3  DNA.h.den.s3  DNA.h.f12.s3  DNA.h.f13.s3  \\\n11853           0.0           0.0           0.0           0.0           0.0   \n1727            0.0           0.0           0.0           0.0           0.0   \n12005           0.0           0.0           0.0           0.0           0.0   \n3960            0.0           0.0           0.0           0.0           0.0   \n10815           0.0           0.0           0.0           0.0           0.0   \n\n       dist.10.nn  dist.20.nn  dist.30.nn  nuclear.displacement  \n11853    0.111414    0.108555    0.121853              0.018572  \n1727     0.088967    0.104393    0.118345              0.015677  \n12005    0.098335    0.104182    0.112022              0.014801  \n3960     0.224270    0.259312    0.294861              0.008114  \n10815    0.079059    0.085523    0.093387              0.035350  \n\n[5 rows x 116 columns]"
     },
     "execution_count": 13,
     "metadata": {},
     "output_type": "execute_result"
    }
   ],
   "source": [
    "valfilteredData = validationData.drop(columns=[ \"cell_code\", \"well_code\"])\n",
    "normalizedValidation = valfilteredData.div(filteredData.max())\n",
    "normalizedValidation.head()"
   ]
  },
  {
   "cell_type": "markdown",
   "execution_count": null,
   "metadata": {},
   "outputs": [],
   "source": [
    "# Training Model"
   ]
  },
  {
   "cell_type": "code",
   "execution_count": null,
   "metadata": {},
   "outputs": [],
   "source": []
  },
  {
   "cell_type": "code",
   "execution_count": 12,
   "metadata": {},
   "outputs": [
    {
     "data": {
      "text/plain": "RandomForestClassifier(bootstrap=True, class_weight=None, criterion='gini',\n                       max_depth=15, max_features='auto', max_leaf_nodes=None,\n                       min_impurity_decrease=0.0, min_impurity_split=None,\n                       min_samples_leaf=1, min_samples_split=2,\n                       min_weight_fraction_leaf=0.0, n_estimators=1000,\n                       n_jobs=None, oob_score=False, random_state=None,\n                       verbose=0, warm_start=False)"
     },
     "execution_count": 12,
     "metadata": {},
     "output_type": "execute_result"
    }
   ],
   "source": [
    "from sklearn.ensemble import RandomForestClassifier\n",
    "RFclf2 = RandomForestClassifier(n_estimators=1000, max_depth=15,\n",
    "                             random_state=None)\n",
    "X = np.array(normalizedTrainData)\n",
    "Y = np.array(trainingTargets)\n",
    "RFclf2.fit(X, Y)"
   ]
  },
  {
   "cell_type": "markdown",
   "execution_count": null,
   "metadata": {},
   "outputs": [],
   "source": [
    "# Validating"
   ]
  },
  {
   "cell_type": "code",
   "execution_count": 14,
   "metadata": {},
   "outputs": [],
   "source": [
    "predictionsRF = RFclf2.predict(normalizedValidation)"
   ]
  },
  {
   "cell_type": "code",
   "execution_count": 16,
   "metadata": {},
   "outputs": [],
   "source": [
    "allCodes = np.array(validationData.cell_code)\n",
    "with open('output.csv', 'w') as file:\n",
    "    file.write(\"cell_code,prediction\\n\")\n",
    "    for p, code in zip(predictionsRF, allCodes):\n",
    "        file.write(f\"{code},{p}\\n\")"
   ]
  },
  {
   "cell_type": "code",
   "execution_count": null,
   "metadata": {},
   "outputs": [],
   "source": []
  }
 ]
}